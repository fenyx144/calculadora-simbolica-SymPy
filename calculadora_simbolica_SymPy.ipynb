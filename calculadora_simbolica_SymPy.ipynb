{
  "nbformat": 4,
  "nbformat_minor": 0,
  "metadata": {
    "colab": {
      "provenance": []
    },
    "kernelspec": {
      "name": "python3",
      "display_name": "Python 3"
    },
    "language_info": {
      "name": "python"
    }
  },
  "cells": [
    {
      "cell_type": "code",
      "execution_count": null,
      "metadata": {
        "id": "1k8IUg-a6NXf"
      },
      "outputs": [],
      "source": [
        "# Instalación de SymPy (opcional si no está instalado)\n",
        "!pip install sympy\n"
      ]
    },
    {
      "cell_type": "code",
      "source": [
        "import sympy as sp\n",
        "from sympy.plotting import plot"
      ],
      "metadata": {
        "id": "ALhbo2_h6V-Y"
      },
      "execution_count": 2,
      "outputs": []
    },
    {
      "cell_type": "code",
      "source": [
        "# Función para resolver integrales\n",
        "def resolver_integral(expresion, variable):\n",
        "    x = sp.Symbol(variable)\n",
        "    integral = sp.integrate(expresion, x)\n",
        "    return integral\n",
        "\n",
        "# Ejemplo de uso\n",
        "expresion = \"x**2 + 3*x + 5\"\n",
        "print(\"Integral:\", resolver_integral(expresion, \"x\"))"
      ],
      "metadata": {
        "colab": {
          "base_uri": "https://localhost:8080/"
        },
        "id": "jhLEOhum6bVN",
        "outputId": "5ad7e174-851c-4d1e-863b-822a56f0108c"
      },
      "execution_count": 3,
      "outputs": [
        {
          "output_type": "stream",
          "name": "stdout",
          "text": [
            "Integral: x**3/3 + 3*x**2/2 + 5*x\n"
          ]
        }
      ]
    },
    {
      "cell_type": "code",
      "source": [
        "# Función para resolver ecuaciones\n",
        "def resolver_ecuacion(ecuacion):\n",
        "    x = sp.Symbol('x')\n",
        "    solucion = sp.solve(ecuacion, x)\n",
        "    return solucion\n",
        "\n",
        "# Ejemplo de uso\n",
        "ecuacion = \"x**2 - 4\"\n",
        "print(\"Raíces:\", resolver_ecuacion(ecuacion))\n"
      ],
      "metadata": {
        "colab": {
          "base_uri": "https://localhost:8080/"
        },
        "id": "j99hY9nD6gAo",
        "outputId": "e4e449a0-2eb9-47d3-8629-8482813b52d7"
      },
      "execution_count": 4,
      "outputs": [
        {
          "output_type": "stream",
          "name": "stdout",
          "text": [
            "Raíces: [-2, 2]\n"
          ]
        }
      ]
    },
    {
      "cell_type": "code",
      "source": [
        "# Función para encontrar raíces de polinomios\n",
        "def encontrar_raices(polinomio):\n",
        "    x = sp.Symbol('x')\n",
        "    raices = sp.roots(polinomio, x)\n",
        "    return raices\n",
        "\n",
        "# Ejemplo de uso\n",
        "polinomio = \"x**3 - 6*x**2 + 11*x - 6\"\n",
        "print(\"Raíces:\", encontrar_raices(polinomio))\n"
      ],
      "metadata": {
        "colab": {
          "base_uri": "https://localhost:8080/"
        },
        "id": "pTS-IBCO6i7H",
        "outputId": "73e17e87-9284-4659-f9d7-f71d2a187945"
      },
      "execution_count": 5,
      "outputs": [
        {
          "output_type": "stream",
          "name": "stdout",
          "text": [
            "Raíces: {3: 1, 2: 1, 1: 1}\n"
          ]
        }
      ]
    },
    {
      "cell_type": "code",
      "source": [
        "# Derivar una función\n",
        "def calcular_derivada(expresion, variable):\n",
        "    x = sp.Symbol(variable)\n",
        "    derivada = sp.diff(expresion, x)\n",
        "    return derivada\n",
        "\n",
        "# Derivar parcialmente\n",
        "def calcular_derivada_parcial(expresion, variable):\n",
        "    simbolo = sp.Symbol(variable)\n",
        "    derivada = sp.diff(expresion, simbolo)\n",
        "    return derivada\n",
        "\n",
        "# Ejemplo de uso\n",
        "expresion = \"x**3 + 2*y**2 - z\"\n",
        "print(\"Derivada respecto a x:\", calcular_derivada(expresion, 'x'))\n",
        "print(\"Derivada parcial respecto a y:\", calcular_derivada_parcial(expresion, 'y'))\n"
      ],
      "metadata": {
        "colab": {
          "base_uri": "https://localhost:8080/"
        },
        "id": "okXyluHX7COX",
        "outputId": "8cba48ab-6559-40b7-b73c-7decb279f7c7"
      },
      "execution_count": 10,
      "outputs": [
        {
          "output_type": "stream",
          "name": "stdout",
          "text": [
            "Derivada respecto a x: 3*x**2\n",
            "Derivada parcial respecto a y: 4*y\n"
          ]
        }
      ]
    },
    {
      "cell_type": "code",
      "source": [
        "# Resolver sistemas de ecuaciones\n",
        "def resolver_sistema(ecuaciones, variables):\n",
        "    simbolos = [sp.Symbol(var) for var in variables]\n",
        "    solucion = sp.solve(ecuaciones, simbolos)\n",
        "    return solucion\n",
        "\n",
        "# Ejemplo de uso\n",
        "ecuaciones = [\"x + y - 2\", \"2*x - y - 3\"]\n",
        "variables = [\"x\", \"y\"]\n",
        "print(\"Solución del sistema:\", resolver_sistema(ecuaciones, variables))\n"
      ],
      "metadata": {
        "colab": {
          "base_uri": "https://localhost:8080/"
        },
        "id": "rPwOIuYh7DUR",
        "outputId": "cc273d23-41df-4757-aded-f9bec5009c16"
      },
      "execution_count": 11,
      "outputs": [
        {
          "output_type": "stream",
          "name": "stdout",
          "text": [
            "Solución del sistema: {x: 5/3, y: 1/3}\n"
          ]
        }
      ]
    },
    {
      "cell_type": "code",
      "source": [
        "# Calcular el límite de una función\n",
        "def calcular_limite(expresion, variable, punto, direccion=\"+\"):\n",
        "    x = sp.Symbol(variable)\n",
        "    limite = sp.limit(expresion, x, punto, dir=direccion)\n",
        "    return limite\n",
        "\n",
        "# Ejemplo de uso\n",
        "expresion = \"1/x\"\n",
        "print(\"Límite cuando x tiende a 0 por la derecha:\", calcular_limite(expresion, 'x', 0, '+'))\n"
      ],
      "metadata": {
        "id": "qdE4qVnl7Hcb"
      },
      "execution_count": null,
      "outputs": []
    },
    {
      "cell_type": "code",
      "source": [
        "# Calcular el límite de una función\n",
        "def calcular_limite(expresion, variable, punto, direccion=\"+\"):\n",
        "    x = sp.Symbol(variable)\n",
        "    limite = sp.limit(expresion, x, punto, dir=direccion)\n",
        "    return limite\n",
        "\n",
        "# Ejemplo de uso\n",
        "expresion = \"1/x\"\n",
        "print(\"Límite cuando x tiende a 0 por la derecha:\", calcular_limite(expresion, 'x', 0, '+'))\n"
      ],
      "metadata": {
        "id": "PG7BVkCI7J8p"
      },
      "execution_count": null,
      "outputs": []
    },
    {
      "cell_type": "code",
      "source": [
        "# Operaciones con matrices\n",
        "def operar_matrices(matriz):\n",
        "    M = sp.Matrix(matriz)\n",
        "    return {\n",
        "        \"Determinante\": M.det(),\n",
        "        \"Inversa\": M.inv() if M.det() != 0 else \"No tiene inversa\",\n",
        "        \"Eigenvalores\": M.eigenvals()\n",
        "    }\n",
        "\n",
        "# Ejemplo de uso\n",
        "matriz = [[1, 2], [3, 4]]\n",
        "print(\"Operaciones con la matriz:\", operar_matrices(matriz))\n"
      ],
      "metadata": {
        "id": "1-5WLXie7R_I"
      },
      "execution_count": null,
      "outputs": []
    },
    {
      "cell_type": "code",
      "source": [
        "# Calcular una serie infinita\n",
        "def calcular_serie(expresion, variable, inicio, infinito):\n",
        "    x = sp.Symbol(variable)\n",
        "    serie = sp.summation(expresion, (x, inicio, infinito))\n",
        "    return serie\n",
        "\n",
        "# Ejemplo de uso\n",
        "expresion = \"1/x**2\"\n",
        "print(\"Serie infinita:\", calcular_serie(expresion, 'x', 1, sp.oo))\n"
      ],
      "metadata": {
        "id": "DMbYXo9X7WI1"
      },
      "execution_count": null,
      "outputs": []
    }
  ]
}